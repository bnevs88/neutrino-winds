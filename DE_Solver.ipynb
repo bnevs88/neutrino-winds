{
 "cells": [
  {
   "cell_type": "markdown",
   "metadata": {},
   "source": [
    "Implementing a basic DE solver for the neutrino winds in terms of psi\n",
    "\n",
    "Runge-Kutta method from Wikipedia:\n",
    "<img src=\"https://wikimedia.org/api/rest_v1/media/math/render/svg/25f03454fd25957cc63be11ec534efdce349c52f\">\n",
    "<img src=\"https://wikimedia.org/api/rest_v1/media/math/render/svg/95bdbb2e3aa83735085c0aadd577162c69e4056a\">\n",
    "<img src=\"https://wikimedia.org/api/rest_v1/media/math/render/svg/81398071e8f180ac143bfdf4598ff47bf79eb689\">\n",
    "I use $\\psi$ in place of t, and {r,v} as y. I calculate separate k values for r and v to get y'={r',v'}\n",
    "\n",
    "Questions/next steps:\n",
    "\n",
    "Is this correct? The behavior of this only depends on $r_0,v_0,G,M,$ and $c_s$\n",
    "\n",
    "What are typical values for these?"
   ]
  },
  {
   "cell_type": "code",
   "execution_count": 47,
   "metadata": {},
   "outputs": [],
   "source": [
    "import numpy as np\n",
    "import matplotlib.pyplot as plt\n",
    "\n",
    "cs=1\n",
    "M=1\n",
    "G=1\n",
    "mB=1\n",
    "dPdS=1\n",
    "Se=0\n",
    "rho=1\n",
    "T=1\n",
    "r0=1\n",
    "\n",
    "def df1(r,v):\n",
    "    return 1-(v/cs)**2\n",
    "\n",
    "def df2(r,v):\n",
    "    return G*M/(r*cs**2) - 2 + (r/v)*dPdS*mB*Se/((rho**2)*(cs**2)*T)\n",
    "\n",
    "def ndf1(psi,coords):\n",
    "    return 1-2*np.exp(2*coords[1])\n",
    "\n",
    "def ndf2(psi,coords):\n",
    "    return np.exp(-coords[0])*G*M/((cs**2)*r0)-2\n",
    "\n",
    "def drdpsi(psi,coords):\n",
    "    return coords[0]*f1(coords[0],coords[1])\n",
    "\n",
    "def dvdpsi(psi,coords):\n",
    "    return coords[1]*f2(coords[0],coords[1])\n",
    "\n",
    "def CoupledRungeKuttaStep(af1,af2,fn,t,dt): #takes state f(n) and steps to f(n+dt) using arbitrary input functions f1 and f2\n",
    "    f1k1=dt*af1(t,fn)\n",
    "    f2k1=dt*af2(t,fn)\n",
    "    f1k2=dt*af1(t+dt/2,fn+np.array([f1k1/2,f2k1/2]))\n",
    "    f2k2=dt*af2(t+dt/2,fn+np.array([f1k1/2,f2k1/2]))\n",
    "    f1k3=dt*af1(t+dt/2,fn+np.array([f1k2/2,f2k2/2]))\n",
    "    f2k3=dt*af2(t+dt/2,fn+np.array([f1k2/2,f2k2/2]))\n",
    "    f1k4=dt*af1(t+dt,fn+np.array([f1k3,f2k3]))\n",
    "    f2k4=dt*af2(t+dt,fn+np.array([f1k3,f2k3]))\n",
    "    return np.array([t+dt,np.array([fn[0]+(f1k1+2*f1k2+2*f1k3+f1k4)/6,fn[1]+(f2k1+2*f2k2+2*f2k3+f2k4)/6])])\n",
    "\n",
    "def generateFunc(r0,v0,itermax):\n",
    "    xsol=np.array([r0])\n",
    "    usol=np.array([v0])\n",
    "    t=0\n",
    "    dt=.01\n",
    "    i=0\n",
    "    while i<itermax:\n",
    "        #print(i)\n",
    "        currState=np.array([xsol[-1],usol[-1]])\n",
    "        step=CoupledRungeKuttaStep(ndf1,ndf2,currState,t,dt)\n",
    "        #print(step)\n",
    "        percentChange=np.linalg.norm((step[1]-currState)/np.linalg.norm(currState))\n",
    "        #print(percentChange,dt)\n",
    "        if percentChange>1:\n",
    "            dt=.5*dt\n",
    "            #print(\"dt too big\")\n",
    "        elif percentChange<.1:\n",
    "            dt=2*dt\n",
    "            #print(\"dt too small\")\n",
    "        else:\n",
    "            xsol=np.append(xsol,step[1][0])\n",
    "            usol=np.append(usol,step[1][1])\n",
    "            #print(\"took step\")\n",
    "            i=i+1\n",
    "            t=t+dt\n",
    "    return np.array((xsol,usol))"
   ]
  },
  {
   "cell_type": "code",
   "execution_count": 48,
   "metadata": {},
   "outputs": [
    {
     "data": {
      "image/png": "[encoded data removed]",
      "text/plain": [
       "<Figure size 432x288 with 1 Axes>"
      ]
     },
     "metadata": {
      "needs_background": "light"
     },
     "output_type": "display_data"
    },
    {
     "data": {
      "image/png": "[encoded data removed]",
      "text/plain": [
       "<Figure size 432x288 with 1 Axes>"
      ]
     },
     "metadata": {
      "needs_background": "light"
     },
     "output_type": "display_data"
    }
   ],
   "source": [
    "func=generateFunc(0,.00001,100)\n",
    "plt.figure(1)\n",
    "plt.scatter(func[0],func[1])\n",
    "plt.figure(2)\n",
    "plt.scatter(r0*np.exp(func[0]),cs*np.exp(func[1]));"
   ]
  },
  {
   "cell_type": "code",
   "execution_count": null,
   "metadata": {},
   "outputs": [],
   "source": [
    "plt.plot(func[0])\n",
    "#print(func[0])"
   ]
  },
  {
   "cell_type": "code",
   "execution_count": null,
   "metadata": {},
   "outputs": [],
   "source": [
    "plt.plot(func[1])\n",
    "#print(func[1])"
   ]
  },
  {
   "cell_type": "code",
   "execution_count": null,
   "metadata": {},
   "outputs": [],
   "source": [
    "#Testing the CoupledRungeKuttaStep function with a known DE\n",
    "#It works as expected\n",
    "\n",
    "def testf(t,x):\n",
    "    return -3*x[0]+np.sqrt(2)*x[1]\n",
    "def testf2(t,x):\n",
    "    return np.sqrt(2)*x[0]-2*x[1]\n",
    "\n",
    "def generateTestFunc(x0,y0):\n",
    "    x1=np.array([x0])\n",
    "    x2=np.array([y0])\n",
    "    t=0\n",
    "    while t<10:\n",
    "        step=CoupledRungeKuttaStep(testf,testf2,np.array([x1[-1],x2[-1]]),t,.01)\n",
    "        x1=np.append(x1,step[1][0])\n",
    "        x2=np.append(x2,step[1][1])\n",
    "        t=t+.01\n",
    "        #print(xstep)\n",
    "    return np.array([x1,x2])\n",
    "\n",
    "func2=generateTestFunc(2,-1)\n",
    "plt.scatter(func2[0],func2[1])"
   ]
  },
  {
   "cell_type": "code",
   "execution_count": null,
   "metadata": {},
   "outputs": [],
   "source": []
  }
 ],
 "metadata": {
  "kernelspec": {
   "display_name": "Python 3",
   "language": "python",
   "name": "python3"
  },
  "language_info": {
   "codemirror_mode": {
    "name": "ipython",
    "version": 3
   },
   "file_extension": ".py",
   "mimetype": "text/x-python",
   "name": "python",
   "nbconvert_exporter": "python",
   "pygments_lexer": "ipython3",
   "version": "3.7.3"
  }
 },
 "nbformat": 4,
 "nbformat_minor": 2
}
