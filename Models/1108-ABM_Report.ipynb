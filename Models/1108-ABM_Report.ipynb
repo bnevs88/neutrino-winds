{
 "cells": [
  {
   "cell_type": "markdown",
   "metadata": {},
   "source": [
    "# <center>Using Agent Based Models in Physics Research</center>\n",
    "\n",
    "<center>by Brian Nevins</center>"
   ]
  },
  {
   "cell_type": "markdown",
   "metadata": {},
   "source": [
    "---\n",
    "<img src=\"http://jasss.soc.surrey.ac.uk/13/2/8/Figure6b.jpg\"><a href=\"http://jasss.soc.surrey.ac.uk/13/2/8.html\">Image from the Journal of Artificial Societies and Social Simulation</a>\n",
    "\n",
    "Agent based models are used in physics in some cases, primarily for introductory modeling and for biophysical models and social physics. \n",
    "# Molecular Dynamics \n",
    "My first-year undergraduate physics labs focused on a type of agent based modeling known in the physics community as molecular dynamics. Molecular dynamics involves creating a number of particle objects and following their motion individually as the system evolves. For example, one of our projects was to model Rutherford scattering, in which a charged particle approaches and scatters off a charged nucleus. The particle and the nucleus were separate objects with their own masses, positions, and velocities, which evolved based on simple interaction rules each particle enforced on itself. We used this code to verify the deflection angles predicted by Rutherford's model. There were several other small scale problems we looked at, mostly modeling collisions or simple interactions.\n",
    "\n",
    "Some statistical mechanical models admit agent based modeling, the most well known of which is the Ising model. The Ising model consists of a set of spins on a lattice that interact with their nearest neighbors. It is fairly simple to implement this as an agent based model, and it can be used to demonstrate phase transitions and calculate relevant quantities. Many groups, including one at the Johannes Gutenberg University of Mainz, have implemented this type of model and calculated critical temperatures and exponents with it. \n",
    "\n",
    "This type of simulation becomes untenable for more complex systems, like realistic solids or gases with large numbers of particles. Modeling every particle in a neutron star, for instance, is absurd because of the computational expense. It is conceivable that an agent based model could be used for modeling galactic dynamics, but even then the model is not sufficiently extensible given the estimated 200 billion galaxies in the universe. Nuclear physics could also admit agent based models, since particle numbers are generally small. The issue in nuclear physics is that the interactions between particles are too complex or not sufficiently understood to implement in particle agents. Agent based modeling is not very common in most fields of physics past introductory levels because of high particle numbers and complex or poorly understood interactions.\n",
    "# Social Physics and Biophysics\n",
    "Social physics is not really physics, but involves applying physics techniques to sociology, and some biophysicists focus their research on the behavior of groups of cells. The field of statistical mechanics is all about moving from vast numbers of single particle interactions to macroscopic quantities such as temperature and pressure. These same types of calculations can be applied to groups of people or cells, where emotions, beliefs, and actions (or relevant quantities on the cellular scale) replace quantities like charge, momentum, and interactions. Simplistic models, like Schelling's model for segregation, have been used in such a way to shed light on how macroscopic demographical phenomena can emerge without egregiously noticable causes. Flocking and crowding behavior has also been modeled in this way, and it is likely that statistical analysis could derive some useful quantities from the aggregate of the individual agent behaviors.\n",
    "# Conclusion\n",
    "Agent based modeling has found some niche uses in the field of physics. Introductory models of collisions, and simple small-N statistical mechanical simulations are one example of this, and social physics is another. For my particular subfield of nuclear astrophysics, the numbers of particles are simply too large and the interactions too complex for an agent based model to be applicable. Lattice simulations tracking macroscopic quantities or steady state solutions of those quantities are far more useful."
   ]
  },
  {
   "cell_type": "markdown",
   "metadata": {},
   "source": [
    "---\n",
    "# References\n",
    "\n",
    "Preis, Tobias, et al. “GPU Accelerated Monte Carlo Simulation of the 2D and 3D Ising Model.” Journal of Computational Physics, vol. 228, no. 12, July 2009, pp. 4468–77. DOI.org (Crossref), doi:10.1016/j.jcp.2009.03.018.\n",
    "\n",
    "Quang, Le Anh, et al. “Agent-Based Models in Social Physics.” Journal of the Korean Physical Society, vol. 72, no. 11, June 2018, pp. 1272–80. arXiv.org, doi:10.3938/jkps.72.1272.\n",
    "\n",
    "Quera, Vicen&ccedil;, et al. “Flocking Behaviour: Agent-Based Simulation and Hierarchical Leadership.” Journal of Artificial Societies and Social Simulation, vol. 13, no. 2, 2009, p. 8.\n"
   ]
  },
  {
   "cell_type": "markdown",
   "metadata": {},
   "source": [
    "-----\n",
    "### Congratulations, you are done!\n",
    "\n",
    "Now, you just need to commit and push this report to your project git repository. "
   ]
  }
 ],
 "metadata": {
  "anaconda-cloud": {},
  "kernelspec": {
   "display_name": "Python 3",
   "language": "python",
   "name": "python3"
  },
  "language_info": {
   "codemirror_mode": {
    "name": "ipython",
    "version": 3
   },
   "file_extension": ".py",
   "mimetype": "text/x-python",
   "name": "python",
   "nbconvert_exporter": "python",
   "pygments_lexer": "ipython3",
   "version": "3.7.3"
  }
 },
 "nbformat": 4,
 "nbformat_minor": 1
}
