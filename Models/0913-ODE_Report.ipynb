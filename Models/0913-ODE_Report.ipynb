{
 "cells": [
  {
   "cell_type": "markdown",
   "metadata": {},
   "source": [
    "# <center>Using Ordinary Differential Equations (ODEs) in Nuclear Astrophysics</center>\n",
    "\n",
    "<center>by Brian Nevins</center>"
   ]
  },
  {
   "cell_type": "markdown",
   "metadata": {},
   "source": [
    "Differential equations are the bread and butter of theoretical physics. Everything from basic Newtonian mechanics to nuclear reactions rates to thermodynamics is derived using differential equations. The Schrodinger wave equation, which is the starting point for all of quantum mechanics, is a differential equation. The most commonly used <b>ordinary</b> differential equations in physics are those that model harmonic oscillators. The general form $m\\ddot{x}=-kx$ describes the movement of a mass on a spring in the absence of external forces. Almost every system imaginable can be modeled as a harmonic oscillator in the appropriate limit. The distance from the Earth to the Sun can be modeled as a harmonic oscillator, with gravity acting as the \"spring\". The behavior of many circuits can also be modeled as a harmonic oscillator. \n",
    "\n",
    "There are several important varieties of oscillators that physicists deal with. The <b>simple</b> harmonic oscillator is of the form $m\\ddot{x}-kx=0$ for some constant $k$ and $m$. <b>Damped harmonic oscillators</b> include the influence of damping forces, e.g. air resistance, which gives an equation of the form $m\\ddot{x}-b\\dot{x}+kx=0$. <b>Driven harmonic oscillators</b> are still more advanced, including influence from external driving forces, with the form $F(t)=m\\ddot{x}-b\\dot{x}+kx$. <b>Parametric oscillators</b> are oscillators for which the coefficients of the derivatives of $x$ are varied, so $\\ddot{x}+b(t)\\dot{x}+w(t)x=0$. \n",
    "\n",
    "A damped harmonic oscillator:\n",
    "<img src=\"https://upload.wikimedia.org/wikipedia/commons/9/9a/SR-SDoF.gif\" width=\"400\"><a href=\"https://upload.wikimedia.org/wikipedia/commons/9/9a/SR-SDoF.gif\"> Image from Wikimedia Commons </a>\n",
    "\n",
    "Simple harmonic oscillators have a natural frequency at which they tend to oscillate, and the relationship between the frequency of a periodic driving force and the natural frequency affects the amplitude of the oscillation. Consider pushing someone on a swing. Pushing at a very low frequency with a given force will move the swing, but not terribly far. Pushing (and pulling) at an extremely fast frequency will just have the swing vibrating in place. But if you time your pushes correctly, you can get the swing to go very high without applying much force. This occurs when you push the swing at or close to its natural frequency. \n",
    "\n",
    "However, for more complex systems, ordinary differential equations are hard to come by. Most physical systems depend on a number of variables, be it distance, time, density, momentum, energy, or a host of others that are interdependent. For nuclear astrophysics, partial differential equations are the name of the game. My research looks at neutrino driven winds coming off of proto-neutron stars, and the structure and behavior of these winds are governed by 3 equations representing mass, momentum, and energy conservation:\n",
    "\n",
    "$\\dot{M}=4\\pi r^2 v \\rho$ \n",
    "\n",
    "$v_r \\frac{\\partial v_r}{\\partial r}=-\\frac{1}{\\rho} \\frac{\\partial P}{\\partial r} - \\frac{GM}{r^2}$ \n",
    "\n",
    "$v_r \\frac{\\partial s}{\\partial r} = \\frac{S_\\epsilon}{n_B T}$\n",
    "\n",
    "The key quantities are number density $n_B$, wind velocity $v_r$, and entropy $s$. I will be solving these numerically for different starting values of these and for different values of the other constants that appear in the equations. To simplify the computation, these can be rewritten in terms of a parameter $\\psi$ in the following way:\n",
    "\n",
    "$\\frac{dr}{d\\psi}=f_1 r$\n",
    "\n",
    "$\\frac{d v_r}{d\\psi}=f_2 v_r$\n",
    "\n",
    "$\\frac{ds}{d\\psi}=f_1 \\frac{r}{v_r} \\frac{S_\\epsilon}{n_B T}$\n",
    "\n",
    "with\n",
    "\n",
    "$f_1=1-(\\frac{v_r}{c_s})^2$\n",
    "\n",
    "$f_2=\\frac{G M}{c_s^2 r} - 2 + \\frac{r}{v_r}\\big(\\frac{\\partial P}{\\partial s}\\big)_{\\rho} \\frac{m_B S_\\epsilon}{\\rho^2 c_s^2 T}$\n",
    "\n",
    "I can then iterate through $\\psi$, updating $r$,$v_r$, and $s$ at each step and calculating $f_1$ and $f_2$ for the next. My objective is to find sets of starting parameters such that $v_r$ passes through $c_s$ at some point. Working with differential equations will therefore be the bulk of my research project."
   ]
  },
  {
   "cell_type": "markdown",
   "metadata": {},
   "source": [
    "# References #\n",
    "Case, William B. “The Pumping of a Swing from the Standing Position.” American Journal of Physics, vol. 64, no. 3, Mar. 1996, pp. 215–20. DOI.org (Crossref), doi:10.1119/1.18209.\n",
    "\n",
    "Roberts, Luke. \"Notes on the Basic Physics of the Neutrino Driven Wind (NDW).\""
   ]
  },
  {
   "cell_type": "code",
   "execution_count": null,
   "metadata": {},
   "outputs": [],
   "source": []
  }
 ],
 "metadata": {
  "anaconda-cloud": {},
  "kernelspec": {
   "display_name": "Python 3",
   "language": "python",
   "name": "python3"
  },
  "language_info": {
   "codemirror_mode": {
    "name": "ipython",
    "version": 3
   },
   "file_extension": ".py",
   "mimetype": "text/x-python",
   "name": "python",
   "nbconvert_exporter": "python",
   "pygments_lexer": "ipython3",
   "version": "3.7.3"
  }
 },
 "nbformat": 4,
 "nbformat_minor": 1
}
