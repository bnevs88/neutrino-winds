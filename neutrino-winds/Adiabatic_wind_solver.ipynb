{
 "cells": [
  {
   "cell_type": "markdown",
   "metadata": {},
   "source": [
    "Implementing a basic DE solver for the neutrino winds in terms of psi\n",
    "\n",
    "Runge-Kutta method from Wikipedia:\n",
    "<img src=\"https://wikimedia.org/api/rest_v1/media/math/render/svg/25f03454fd25957cc63be11ec534efdce349c52f\">\n",
    "<img src=\"https://wikimedia.org/api/rest_v1/media/math/render/svg/95bdbb2e3aa83735085c0aadd577162c69e4056a\">\n",
    "<img src=\"https://wikimedia.org/api/rest_v1/media/math/render/svg/81398071e8f180ac143bfdf4598ff47bf79eb689\">\n",
    "I use $\\psi$ in place of t, and {r,v} as y. I calculate separate k values for r and v to get y'={r',v'}\n",
    "\n",
    "Questions/next steps:\n",
    "\n",
    "Isentropic wind with ideal gas equation of state<br />\n",
    "check small v0 - no turnover I can find<br />\n",
    "check limits of gamma, maybe find v0 as a function of gamma<br />\n",
    "calculate realistic a value - a~.1<br />\n",
    "incorporate general EoS, not just gamma law<br>\n",
    "things break around gamma=1.4"
   ]
  },
  {
   "cell_type": "code",
   "execution_count": 1,
   "metadata": {},
   "outputs": [],
   "source": [
    "%matplotlib inline\n",
    "%load_ext autoreload"
   ]
  },
  {
   "cell_type": "code",
   "execution_count": null,
   "metadata": {},
   "outputs": [],
   "source": [
    "%autoreload 2\n",
    "import numpy as np\n",
    "import matplotlib.pyplot as plt\n",
    "import Adiabatic_wind_solver as aws\n",
    "s=aws.solver(1,10)\n",
    "s.makePlots(.001,.01,.0005,True,20,5);"
   ]
  },
  {
   "cell_type": "code",
   "execution_count": null,
   "metadata": {},
   "outputs": [],
   "source": [
    "s.makePlots(.001,.01,.0005,False,10,5);"
   ]
  },
  {
   "cell_type": "code",
   "execution_count": null,
   "metadata": {},
   "outputs": [],
   "source": [
    "v0avg=s.findV0(.001,.006,.0001)"
   ]
  },
  {
   "cell_type": "code",
   "execution_count": null,
   "metadata": {},
   "outputs": [],
   "source": [
    "s.makePlot(v0avg,AV=True,xrange=10);"
   ]
  },
  {
   "cell_type": "code",
   "execution_count": 7,
   "metadata": {},
   "outputs": [],
   "source": [
    "%autoreload 2\n",
    "import numpy as np\n",
    "import matplotlib.pyplot as plt\n",
    "import Adiabatic_wind_solver as aws"
   ]
  },
  {
   "cell_type": "code",
   "execution_count": 12,
   "metadata": {},
   "outputs": [
    {
     "name": "stdout",
     "output_type": "stream",
     "text": [
      "Searching gamma = 1.48000000000017\n",
      "No sign change, decrementing bounds\n",
      "Max iteration count exceeded at gamma = 1.48000000000017\n",
      "No sign change above v0/cs = 1.925929944387236e-36\n"
     ]
    },
    {
     "data": {
      "image/png": "[encoded data removed]",
      "text/plain": [
       "<Figure size 432x288 with 1 Axes>"
      ]
     },
     "metadata": {
      "needs_background": "light"
     },
     "output_type": "display_data"
    }
   ],
   "source": [
    "s=aws.solver(5/3,.1)\n",
    "g=s.gammaSearch(a=.1,g0=10,dg=-.01,glim=1,lower=.01,upper=.9,itermax=100)"
   ]
  },
  {
   "cell_type": "code",
   "execution_count": 11,
   "metadata": {},
   "outputs": [
    {
     "data": {
      "text/plain": [
       "0.0025060941696166995"
      ]
     },
     "execution_count": 11,
     "metadata": {},
     "output_type": "execute_result"
    }
   ],
   "source": [
    "import sys\n",
    "s1=aws.solver(5/3,.1)\n",
    "s1.findV0(sys.float_info.min,.003,.0001,show=False)"
   ]
  },
  {
   "cell_type": "code",
   "execution_count": null,
   "metadata": {},
   "outputs": [],
   "source": [
    "s1.makePlot(0.002506094169616699,AV=True,xrange=50)"
   ]
  },
  {
   "cell_type": "code",
   "execution_count": null,
   "metadata": {},
   "outputs": [],
   "source": [
    "s2=aws.solver(1.675,.1)\n",
    "plt.figure(1)\n",
    "s2.makePlot(2.76218930e-03,AV=True)\n"
   ]
  },
  {
   "cell_type": "code",
   "execution_count": null,
   "metadata": {},
   "outputs": [],
   "source": [
    "plt.figure(2)\n",
    "s2.makePlot(2.76218930e-03,AV=False)"
   ]
  },
  {
   "cell_type": "code",
   "execution_count": null,
   "metadata": {
    "scrolled": false
   },
   "outputs": [],
   "source": [
    "\n",
    "print(g[:,0],g[:,1])\n",
    "plt.figure(1)\n",
    "#plt.xscale(\"log\")\n",
    "#plt.ylim((0,1e-2))\n",
    "plt.scatter(g[:,0],g[:,1])\n",
    "print(0.005075313376262784/0.005075325407087801)\n",
    "print(4.149019718170166e-06/4.1489973664283755e-06)\n",
    "#np.log(1.000001)"
   ]
  },
  {
   "cell_type": "code",
   "execution_count": null,
   "metadata": {},
   "outputs": [],
   "source": [
    "g=np.array([[1.00000000e+000,5.07531939e-003],\n",
    " [1.00250000e+000,4.62911165e-003],\n",
    " [1.00500000e+000,4.20731798e-003],\n",
    " [1.00750000e+000,3.81006171e-003],\n",
    " [1.01000000e+000,3.43697821e-003],\n",
    " [1.01250000e+000,3.08769045e-003],\n",
    " [1.01500000e+000,2.76168418e-003],\n",
    " [1.01750000e+000,2.45847751e-003],\n",
    " [1.02000000e+000,2.17755702e-003],\n",
    " [1.02250000e+000,1.91831820e-003],\n",
    " [1.02500000e+000,1.68010795e-003],\n",
    " [1.02750000e+000,1.46168831e-003],\n",
    " [1.03000000e+000,1.26368850e-003],\n",
    " [1.03250000e+000,1.08452495e-003],\n",
    " [1.03500000e+000,9.23378885e-004],\n",
    " [1.03750000e+000,7.79387704e-004],\n",
    " [1.04000000e+000,6.51646955e-004],\n",
    " [1.04250000e+000,5.39213916e-004],\n",
    " [1.04500000e+000,4.41111065e-004],\n",
    " [1.04750000e+000,3.56331702e-004],\n",
    " [1.05000000e+000,2.83816273e-004],\n",
    " [1.05250000e+000,2.22537182e-004],\n",
    " [1.05500000e+000,1.71461957e-004],\n",
    " [1.05750000e+000,1.29535273e-004],\n",
    " [1.06000000e+000,9.56936404e-005],\n",
    " [1.06250000e+000,6.89108782e-005],\n",
    " [1.06500000e+000,4.81852982e-005],\n",
    " [1.06750000e+000,3.25580444e-005],\n",
    " [1.07000000e+000,2.11319325e-005],\n",
    " [1.07250000e+000,1.30738579e-005],\n",
    " [1.07500000e+000,7.62642547e-006],\n",
    " [1.07750000e+000,4.14900854e-006],\n",
    " [1.08000000e+000,2.06491537e-006],\n",
    " [1.08250000e+000,9.16410238e-007],\n",
    " [1.08500000e+000,3.49223614e-007],\n",
    " [1.08750000e+000,1.07673928e-007],\n",
    " [1.09000000e+000,2.42907554e-008],\n",
    " [1.09250000e+000,3.31923366e-009],\n",
    " [1.09500000e+000,2.00117938e-010],\n",
    " [1.09750000e+000,1.04773790e-012]])"
   ]
  },
  {
   "cell_type": "code",
   "execution_count": null,
   "metadata": {},
   "outputs": [],
   "source": [
    "%autoreload 2\n",
    "import numpy as np\n",
    "import matplotlib.pyplot as plt\n",
    "import Adiabatic_wind_solver as aws\n",
    "s2=aws.solver(1.07250000e+00,10)\n",
    "s2.makePlot(1.30738831e-05,AV=False,xrange=20)"
   ]
  },
  {
   "cell_type": "code",
   "execution_count": null,
   "metadata": {},
   "outputs": [],
   "source": [
    "n=0\n",
    "def er():\n",
    "    raise NoSignChange\n",
    "try:\n",
    "    n=n+1\n",
    "    er()\n",
    "    n=n+1\n",
    "except NoSignChange:\n",
    "    print(\"no sign change\")\n",
    "print(n)"
   ]
  },
  {
   "cell_type": "code",
   "execution_count": null,
   "metadata": {},
   "outputs": [],
   "source": [
    "import csv\n",
    "with open('gamma_data.csv', mode='w') as dfile:\n",
    "    datawriter = csv.writer(dfile, delimiter=',', quotechar='\"', quoting=csv.QUOTE_MINIMAL)\n",
    "    for i in range(len(g)):\n",
    "        datawriter.writerow([g[i,0],g[i,1]])\n",
    "dfile.close()\n"
   ]
  },
  {
   "cell_type": "code",
   "execution_count": null,
   "metadata": {},
   "outputs": [],
   "source": []
  }
 ],
 "metadata": {
  "kernelspec": {
   "display_name": "Python 3",
   "language": "python",
   "name": "python3"
  },
  "language_info": {
   "codemirror_mode": {
    "name": "ipython",
    "version": 3
   },
   "file_extension": ".py",
   "mimetype": "text/x-python",
   "name": "python",
   "nbconvert_exporter": "python",
   "pygments_lexer": "ipython3",
   "version": "3.7.3"
  }
 },
 "nbformat": 4,
 "nbformat_minor": 2
}
